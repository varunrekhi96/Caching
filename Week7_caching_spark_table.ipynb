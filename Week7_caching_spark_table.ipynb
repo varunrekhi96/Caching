{
 "cells": [
  {
   "cell_type": "code",
   "execution_count": 1,
   "id": "fb37c139",
   "metadata": {},
   "outputs": [],
   "source": [
    "from pyspark.sql import SparkSession\n",
    "import getpass\n",
    "username = getpass.getuser()\n",
    "spark = SparkSession. \\\n",
    "builder. \\\n",
    "config('spark.ui.port', '0'). \\\n",
    "config('spark.shuffle.useOldFetchProtocol', 'true'). \\\n",
    "config(\"spark.sql.warehouse.dir\", f\"/user/{username}/warehouse\"). \\\n",
    "enableHiveSupport(). \\\n",
    "master('yarn'). \\\n",
    "getOrCreate()"
   ]
  },
  {
   "cell_type": "code",
   "execution_count": 2,
   "id": "3a2db5ab",
   "metadata": {},
   "outputs": [],
   "source": [
    "orders_schema = \"order_id long , order_date date, customer_id long,order_status string\""
   ]
  },
  {
   "cell_type": "code",
   "execution_count": 3,
   "id": "70e6aaa1",
   "metadata": {},
   "outputs": [],
   "source": [
    "orders_df = spark.read \\\n",
    ".format(\"csv\") \\\n",
    ".schema(orders_schema) \\\n",
    ".load(\"/public/trendytech/orders/orders_1gb.csv\")"
   ]
  },
  {
   "cell_type": "code",
   "execution_count": 4,
   "id": "68156d51",
   "metadata": {},
   "outputs": [
    {
     "data": {
      "text/html": [
       "<table border='1'>\n",
       "<tr><th></th></tr>\n",
       "</table>\n"
      ],
      "text/plain": [
       "++\n",
       "||\n",
       "++\n",
       "++"
      ]
     },
     "execution_count": 4,
     "metadata": {},
     "output_type": "execute_result"
    }
   ],
   "source": [
    "spark.sql(\"create database itv006277_cachingdemo_db\")"
   ]
  },
  {
   "cell_type": "code",
   "execution_count": null,
   "id": "4fbc7722",
   "metadata": {},
   "outputs": [],
   "source": [
    "orders_df.write.format(\"csv\").saveAsTable(\"itv006277_cachingdemo_db.itv006277_orders1\")"
   ]
  },
  {
   "cell_type": "code",
   "execution_count": null,
   "id": "d058a52d",
   "metadata": {},
   "outputs": [],
   "source": [
    "spark.sql(\"describe extended itv006277_cachingdemo_db.itv006277_orders1\").show()"
   ]
  },
  {
   "cell_type": "code",
   "execution_count": null,
   "id": "986f757a",
   "metadata": {},
   "outputs": [],
   "source": [
    "spark.sql(\"select count(*) from itv006277_cachingdemo_db.itv006277_orders1\").show()"
   ]
  },
  {
   "cell_type": "code",
   "execution_count": null,
   "id": "6bdfee43",
   "metadata": {},
   "outputs": [],
   "source": [
    "spark.sql(\"cache table itv006277_cachingdemo_db.itv006277_orders1\")"
   ]
  },
  {
   "cell_type": "code",
   "execution_count": null,
   "id": "d0844b79",
   "metadata": {},
   "outputs": [],
   "source": [
    "spark.sql(\"select count(*) from itv006277_cachingdemo_db.itv006277_orders1\").show()"
   ]
  },
  {
   "cell_type": "code",
   "execution_count": null,
   "id": "da5c4f5a",
   "metadata": {},
   "outputs": [],
   "source": [
    "spark.sql(\"select distinct(order_status) from itv006277_cachingdemo_db.itv006277_orders1\").show()"
   ]
  },
  {
   "cell_type": "code",
   "execution_count": null,
   "id": "5ed2a100",
   "metadata": {},
   "outputs": [],
   "source": [
    "spark.sql(\"select count(distinct(order_status)) from itv006277_cachingdemo_db.itv006277_orders1\").show()"
   ]
  },
  {
   "cell_type": "code",
   "execution_count": null,
   "id": "b9b9efb6",
   "metadata": {},
   "outputs": [],
   "source": [
    "spark.sql(\"uncache table itv006277_cachingdemo_db.itv006277_orders1\")"
   ]
  },
  {
   "cell_type": "code",
   "execution_count": null,
   "id": "4ef39bca",
   "metadata": {},
   "outputs": [],
   "source": [
    "spark.sql(\"cache lazy table itv006277_cachingdemo_db.itv006277_orders1\")"
   ]
  },
  {
   "cell_type": "code",
   "execution_count": null,
   "id": "5252f701",
   "metadata": {},
   "outputs": [],
   "source": [
    "spark.sql(\"select count(distinct(order_status)) from itv006277_cachingdemo_db.itv006277_orders1\").show()"
   ]
  },
  {
   "cell_type": "code",
   "execution_count": null,
   "id": "8a147045",
   "metadata": {},
   "outputs": [],
   "source": [
    "spark.sql(\"select order_status, count(*) from itv006277_cachingdemo_db.itv006277_orders1 group by order_status\").show()"
   ]
  },
  {
   "cell_type": "code",
   "execution_count": null,
   "id": "0416b38e",
   "metadata": {},
   "outputs": [],
   "source": [
    "spark.sql(\"insert into itv006277_cachingdemo_db.itv006277_orders1 values(111111, '2023-05-29', 222222, 'BOOKED')\")"
   ]
  },
  {
   "cell_type": "code",
   "execution_count": null,
   "id": "97f6bc39",
   "metadata": {},
   "outputs": [],
   "source": [
    "spark.sql(\"select count(distinct(order_status)) from itv006277_cachingdemo_db.itv006277_orders1\").show()"
   ]
  },
  {
   "cell_type": "code",
   "execution_count": null,
   "id": "b1a73012",
   "metadata": {},
   "outputs": [],
   "source": []
  }
 ],
 "metadata": {
  "kernelspec": {
   "display_name": "Pyspark 2",
   "language": "python",
   "name": "pyspark2"
  },
  "language_info": {
   "codemirror_mode": {
    "name": "ipython",
    "version": 3
   },
   "file_extension": ".py",
   "mimetype": "text/x-python",
   "name": "python",
   "nbconvert_exporter": "python",
   "pygments_lexer": "ipython3",
   "version": "3.6.12"
  }
 },
 "nbformat": 4,
 "nbformat_minor": 5
}
