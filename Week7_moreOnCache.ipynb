{
 "cells": [
  {
   "cell_type": "code",
   "execution_count": 1,
   "id": "a488345f",
   "metadata": {},
   "outputs": [],
   "source": [
    "from pyspark.sql import SparkSession\n",
    "import getpass\n",
    "username = getpass.getuser()\n",
    "spark = SparkSession.builder.config('spark.ui.port','0'). \\\n",
    "config('spark.shuffle.useOldFetchProtocol', 'true'). \\\n",
    "config(\"spark.sql.warehouse.dir\", f\"/user/{username}/warehouse\"). \\\n",
    "enableHiveSupport(). \\\n",
    "master('yarn'). \\\n",
    "getOrCreate()"
   ]
  },
  {
   "cell_type": "code",
   "execution_count": 2,
   "id": "87fc469f",
   "metadata": {},
   "outputs": [],
   "source": [
    "orders_schema = \"order_id long , order_date date, customer_id long,order_status string\""
   ]
  },
  {
   "cell_type": "code",
   "execution_count": 3,
   "id": "620effa7",
   "metadata": {},
   "outputs": [],
   "source": [
    "orders_df = spark.read \\\n",
    ".format(\"csv\") \\\n",
    ".schema(orders_schema) \\\n",
    ".load(\"/public/trendytech/orders/orders_1gb.csv\")"
   ]
  },
  {
   "cell_type": "code",
   "execution_count": 5,
   "id": "07611f20",
   "metadata": {},
   "outputs": [
    {
     "data": {
      "text/html": [
       "<table border='1'>\n",
       "<tr><th>order_id</th><th>order_date</th><th>customer_id</th><th>order_status</th></tr>\n",
       "<tr><td>1</td><td>2013-07-25</td><td>11599</td><td>CLOSED</td></tr>\n",
       "<tr><td>2</td><td>2013-07-25</td><td>256</td><td>PENDING_PAYMENT</td></tr>\n",
       "<tr><td>3</td><td>2013-07-25</td><td>12111</td><td>COMPLETE</td></tr>\n",
       "<tr><td>4</td><td>2013-07-25</td><td>8827</td><td>CLOSED</td></tr>\n",
       "<tr><td>5</td><td>2013-07-25</td><td>11318</td><td>COMPLETE</td></tr>\n",
       "<tr><td>6</td><td>2013-07-25</td><td>7130</td><td>COMPLETE</td></tr>\n",
       "<tr><td>7</td><td>2013-07-25</td><td>4530</td><td>COMPLETE</td></tr>\n",
       "<tr><td>8</td><td>2013-07-25</td><td>2911</td><td>PROCESSING</td></tr>\n",
       "<tr><td>9</td><td>2013-07-25</td><td>5657</td><td>PENDING_PAYMENT</td></tr>\n",
       "<tr><td>10</td><td>2013-07-25</td><td>5648</td><td>PENDING_PAYMENT</td></tr>\n",
       "<tr><td>11</td><td>2013-07-25</td><td>918</td><td>PAYMENT_REVIEW</td></tr>\n",
       "<tr><td>12</td><td>2013-07-25</td><td>1837</td><td>CLOSED</td></tr>\n",
       "<tr><td>13</td><td>2013-07-25</td><td>9149</td><td>PENDING_PAYMENT</td></tr>\n",
       "<tr><td>14</td><td>2013-07-25</td><td>9842</td><td>PROCESSING</td></tr>\n",
       "<tr><td>15</td><td>2013-07-25</td><td>2568</td><td>COMPLETE</td></tr>\n",
       "<tr><td>16</td><td>2013-07-25</td><td>7276</td><td>PENDING_PAYMENT</td></tr>\n",
       "<tr><td>17</td><td>2013-07-25</td><td>2667</td><td>COMPLETE</td></tr>\n",
       "<tr><td>18</td><td>2013-07-25</td><td>1205</td><td>CLOSED</td></tr>\n",
       "<tr><td>19</td><td>2013-07-25</td><td>9488</td><td>PENDING_PAYMENT</td></tr>\n",
       "<tr><td>20</td><td>2013-07-25</td><td>9198</td><td>PROCESSING</td></tr>\n",
       "</table>\n",
       "only showing top 20 rows\n"
      ],
      "text/plain": [
       "+--------+----------+-----------+---------------+\n",
       "|order_id|order_date|customer_id|   order_status|\n",
       "+--------+----------+-----------+---------------+\n",
       "|       1|2013-07-25|      11599|         CLOSED|\n",
       "|       2|2013-07-25|        256|PENDING_PAYMENT|\n",
       "|       3|2013-07-25|      12111|       COMPLETE|\n",
       "|       4|2013-07-25|       8827|         CLOSED|\n",
       "|       5|2013-07-25|      11318|       COMPLETE|\n",
       "|       6|2013-07-25|       7130|       COMPLETE|\n",
       "|       7|2013-07-25|       4530|       COMPLETE|\n",
       "|       8|2013-07-25|       2911|     PROCESSING|\n",
       "|       9|2013-07-25|       5657|PENDING_PAYMENT|\n",
       "|      10|2013-07-25|       5648|PENDING_PAYMENT|\n",
       "|      11|2013-07-25|        918| PAYMENT_REVIEW|\n",
       "|      12|2013-07-25|       1837|         CLOSED|\n",
       "|      13|2013-07-25|       9149|PENDING_PAYMENT|\n",
       "|      14|2013-07-25|       9842|     PROCESSING|\n",
       "|      15|2013-07-25|       2568|       COMPLETE|\n",
       "|      16|2013-07-25|       7276|PENDING_PAYMENT|\n",
       "|      17|2013-07-25|       2667|       COMPLETE|\n",
       "|      18|2013-07-25|       1205|         CLOSED|\n",
       "|      19|2013-07-25|       9488|PENDING_PAYMENT|\n",
       "|      20|2013-07-25|       9198|     PROCESSING|\n",
       "+--------+----------+-----------+---------------+\n",
       "only showing top 20 rows"
      ]
     },
     "execution_count": 5,
     "metadata": {},
     "output_type": "execute_result"
    }
   ],
   "source": [
    "orders_df.cache()"
   ]
  },
  {
   "cell_type": "code",
   "execution_count": 6,
   "id": "28610f01",
   "metadata": {},
   "outputs": [],
   "source": [
    "filtered_results = orders_df.filter(\"customer_id == 10000000\") "
   ]
  },
  {
   "cell_type": "code",
   "execution_count": 7,
   "id": "0d7abd1c",
   "metadata": {},
   "outputs": [
    {
     "name": "stdout",
     "output_type": "stream",
     "text": [
      "+--------+----------+-----------+------------+\n",
      "|order_id|order_date|customer_id|order_status|\n",
      "+--------+----------+-----------+------------+\n",
      "+--------+----------+-----------+------------+\n",
      "\n"
     ]
    }
   ],
   "source": [
    "filtered_results.show()"
   ]
  },
  {
   "cell_type": "code",
   "execution_count": 8,
   "id": "866cdf98",
   "metadata": {},
   "outputs": [
    {
     "data": {
      "text/html": [
       "<table border='1'>\n",
       "<tr><th>order_id</th><th>order_date</th><th>customer_id</th><th>order_status</th></tr>\n",
       "</table>\n"
      ],
      "text/plain": [
       "+--------+----------+-----------+------------+\n",
       "|order_id|order_date|customer_id|order_status|\n",
       "+--------+----------+-----------+------------+\n",
       "+--------+----------+-----------+------------+"
      ]
     },
     "execution_count": 8,
     "metadata": {},
     "output_type": "execute_result"
    }
   ],
   "source": [
    "filtered_results.unpersist()"
   ]
  },
  {
   "cell_type": "code",
   "execution_count": 9,
   "id": "f88b1e9b",
   "metadata": {},
   "outputs": [
    {
     "data": {
      "text/html": [
       "<table border='1'>\n",
       "<tr><th>order_id</th><th>order_date</th><th>customer_id</th><th>order_status</th></tr>\n",
       "<tr><td>1</td><td>2013-07-25</td><td>11599</td><td>CLOSED</td></tr>\n",
       "<tr><td>2</td><td>2013-07-25</td><td>256</td><td>PENDING_PAYMENT</td></tr>\n",
       "<tr><td>3</td><td>2013-07-25</td><td>12111</td><td>COMPLETE</td></tr>\n",
       "<tr><td>4</td><td>2013-07-25</td><td>8827</td><td>CLOSED</td></tr>\n",
       "<tr><td>5</td><td>2013-07-25</td><td>11318</td><td>COMPLETE</td></tr>\n",
       "<tr><td>6</td><td>2013-07-25</td><td>7130</td><td>COMPLETE</td></tr>\n",
       "<tr><td>7</td><td>2013-07-25</td><td>4530</td><td>COMPLETE</td></tr>\n",
       "<tr><td>8</td><td>2013-07-25</td><td>2911</td><td>PROCESSING</td></tr>\n",
       "<tr><td>9</td><td>2013-07-25</td><td>5657</td><td>PENDING_PAYMENT</td></tr>\n",
       "<tr><td>10</td><td>2013-07-25</td><td>5648</td><td>PENDING_PAYMENT</td></tr>\n",
       "<tr><td>11</td><td>2013-07-25</td><td>918</td><td>PAYMENT_REVIEW</td></tr>\n",
       "<tr><td>12</td><td>2013-07-25</td><td>1837</td><td>CLOSED</td></tr>\n",
       "<tr><td>13</td><td>2013-07-25</td><td>9149</td><td>PENDING_PAYMENT</td></tr>\n",
       "<tr><td>14</td><td>2013-07-25</td><td>9842</td><td>PROCESSING</td></tr>\n",
       "<tr><td>15</td><td>2013-07-25</td><td>2568</td><td>COMPLETE</td></tr>\n",
       "<tr><td>16</td><td>2013-07-25</td><td>7276</td><td>PENDING_PAYMENT</td></tr>\n",
       "<tr><td>17</td><td>2013-07-25</td><td>2667</td><td>COMPLETE</td></tr>\n",
       "<tr><td>18</td><td>2013-07-25</td><td>1205</td><td>CLOSED</td></tr>\n",
       "<tr><td>19</td><td>2013-07-25</td><td>9488</td><td>PENDING_PAYMENT</td></tr>\n",
       "<tr><td>20</td><td>2013-07-25</td><td>9198</td><td>PROCESSING</td></tr>\n",
       "</table>\n",
       "only showing top 20 rows\n"
      ],
      "text/plain": [
       "DataFrame[order_id: bigint, order_date: date, customer_id: bigint, order_status: string]"
      ]
     },
     "execution_count": 9,
     "metadata": {},
     "output_type": "execute_result"
    }
   ],
   "source": [
    "orders_df.unpersist()"
   ]
  },
  {
   "cell_type": "code",
   "execution_count": 10,
   "id": "900bff2e",
   "metadata": {},
   "outputs": [
    {
     "data": {
      "text/html": [
       "<table border='1'>\n",
       "<tr><th>order_id</th><th>order_status</th></tr>\n",
       "<tr><td>1</td><td>CLOSED</td></tr>\n",
       "<tr><td>4</td><td>CLOSED</td></tr>\n",
       "<tr><td>12</td><td>CLOSED</td></tr>\n",
       "<tr><td>18</td><td>CLOSED</td></tr>\n",
       "<tr><td>24</td><td>CLOSED</td></tr>\n",
       "<tr><td>25</td><td>CLOSED</td></tr>\n",
       "<tr><td>37</td><td>CLOSED</td></tr>\n",
       "<tr><td>51</td><td>CLOSED</td></tr>\n",
       "<tr><td>57</td><td>CLOSED</td></tr>\n",
       "<tr><td>61</td><td>CLOSED</td></tr>\n",
       "<tr><td>62</td><td>CLOSED</td></tr>\n",
       "<tr><td>87</td><td>CLOSED</td></tr>\n",
       "<tr><td>90</td><td>CLOSED</td></tr>\n",
       "<tr><td>101</td><td>CLOSED</td></tr>\n",
       "<tr><td>116</td><td>CLOSED</td></tr>\n",
       "<tr><td>129</td><td>CLOSED</td></tr>\n",
       "<tr><td>133</td><td>CLOSED</td></tr>\n",
       "<tr><td>191</td><td>CLOSED</td></tr>\n",
       "<tr><td>201</td><td>CLOSED</td></tr>\n",
       "<tr><td>211</td><td>CLOSED</td></tr>\n",
       "</table>\n",
       "only showing top 20 rows\n"
      ],
      "text/plain": [
       "+--------+------------+\n",
       "|order_id|order_status|\n",
       "+--------+------------+\n",
       "|       1|      CLOSED|\n",
       "|       4|      CLOSED|\n",
       "|      12|      CLOSED|\n",
       "|      18|      CLOSED|\n",
       "|      24|      CLOSED|\n",
       "|      25|      CLOSED|\n",
       "|      37|      CLOSED|\n",
       "|      51|      CLOSED|\n",
       "|      57|      CLOSED|\n",
       "|      61|      CLOSED|\n",
       "|      62|      CLOSED|\n",
       "|      87|      CLOSED|\n",
       "|      90|      CLOSED|\n",
       "|     101|      CLOSED|\n",
       "|     116|      CLOSED|\n",
       "|     129|      CLOSED|\n",
       "|     133|      CLOSED|\n",
       "|     191|      CLOSED|\n",
       "|     201|      CLOSED|\n",
       "|     211|      CLOSED|\n",
       "+--------+------------+\n",
       "only showing top 20 rows"
      ]
     },
     "execution_count": 10,
     "metadata": {},
     "output_type": "execute_result"
    }
   ],
   "source": [
    "orders_df.select(\"order_id\", \"order_status\").filter(\"order_status == 'CLOSED'\").cache()"
   ]
  },
  {
   "cell_type": "code",
   "execution_count": 12,
   "id": "c58ee139",
   "metadata": {},
   "outputs": [
    {
     "data": {
      "text/plain": [
       "2833500"
      ]
     },
     "execution_count": 12,
     "metadata": {},
     "output_type": "execute_result"
    }
   ],
   "source": [
    "orders_df.select(\"order_id\", \"order_status\").filter(\"order_status == 'CLOSED'\").count()"
   ]
  },
  {
   "cell_type": "code",
   "execution_count": 14,
   "id": "7255fa8c",
   "metadata": {},
   "outputs": [
    {
     "data": {
      "text/plain": [
       "2833500"
      ]
     },
     "execution_count": 14,
     "metadata": {},
     "output_type": "execute_result"
    }
   ],
   "source": [
    "orders_df.filter(\"order_status == 'CLOSED'\").select(\"order_id\", \"order_status\").count()"
   ]
  },
  {
   "cell_type": "code",
   "execution_count": 15,
   "id": "56eb0ed4",
   "metadata": {},
   "outputs": [
    {
     "data": {
      "text/plain": [
       "25831125"
      ]
     },
     "execution_count": 15,
     "metadata": {},
     "output_type": "execute_result"
    }
   ],
   "source": [
    "orders_df.select(\"order_id\", \"order_status\").count()"
   ]
  },
  {
   "cell_type": "code",
   "execution_count": 16,
   "id": "11d56cbc",
   "metadata": {},
   "outputs": [
    {
     "data": {
      "text/plain": [
       "8587125"
      ]
     },
     "execution_count": 16,
     "metadata": {},
     "output_type": "execute_result"
    }
   ],
   "source": [
    "orders_df.select(\"order_id\", \"order_status\").filter(\"order_status == 'COMPLETE'\").count()"
   ]
  },
  {
   "cell_type": "code",
   "execution_count": 17,
   "id": "af68624f",
   "metadata": {},
   "outputs": [
    {
     "data": {
      "text/html": [
       "<table border='1'>\n",
       "<tr><th>order_id</th><th>order_status</th></tr>\n",
       "<tr><td>11</td><td>PAYMENT_REVIEW</td></tr>\n",
       "<tr><td>12</td><td>CLOSED</td></tr>\n",
       "<tr><td>13</td><td>PENDING_PAYMENT</td></tr>\n",
       "<tr><td>14</td><td>PROCESSING</td></tr>\n",
       "<tr><td>15</td><td>COMPLETE</td></tr>\n",
       "<tr><td>16</td><td>PENDING_PAYMENT</td></tr>\n",
       "<tr><td>17</td><td>COMPLETE</td></tr>\n",
       "<tr><td>18</td><td>CLOSED</td></tr>\n",
       "<tr><td>19</td><td>PENDING_PAYMENT</td></tr>\n",
       "<tr><td>20</td><td>PROCESSING</td></tr>\n",
       "<tr><td>21</td><td>PENDING</td></tr>\n",
       "<tr><td>22</td><td>COMPLETE</td></tr>\n",
       "<tr><td>23</td><td>PENDING_PAYMENT</td></tr>\n",
       "<tr><td>24</td><td>CLOSED</td></tr>\n",
       "<tr><td>25</td><td>CLOSED</td></tr>\n",
       "<tr><td>26</td><td>COMPLETE</td></tr>\n",
       "<tr><td>27</td><td>PENDING_PAYMENT</td></tr>\n",
       "<tr><td>28</td><td>COMPLETE</td></tr>\n",
       "<tr><td>29</td><td>PROCESSING</td></tr>\n",
       "<tr><td>30</td><td>PENDING_PAYMENT</td></tr>\n",
       "</table>\n",
       "only showing top 20 rows\n"
      ],
      "text/plain": [
       "+--------+---------------+\n",
       "|order_id|   order_status|\n",
       "+--------+---------------+\n",
       "|      11| PAYMENT_REVIEW|\n",
       "|      12|         CLOSED|\n",
       "|      13|PENDING_PAYMENT|\n",
       "|      14|     PROCESSING|\n",
       "|      15|       COMPLETE|\n",
       "|      16|PENDING_PAYMENT|\n",
       "|      17|       COMPLETE|\n",
       "|      18|         CLOSED|\n",
       "|      19|PENDING_PAYMENT|\n",
       "|      20|     PROCESSING|\n",
       "|      21|        PENDING|\n",
       "|      22|       COMPLETE|\n",
       "|      23|PENDING_PAYMENT|\n",
       "|      24|         CLOSED|\n",
       "|      25|         CLOSED|\n",
       "|      26|       COMPLETE|\n",
       "|      27|PENDING_PAYMENT|\n",
       "|      28|       COMPLETE|\n",
       "|      29|     PROCESSING|\n",
       "|      30|PENDING_PAYMENT|\n",
       "+--------+---------------+\n",
       "only showing top 20 rows"
      ]
     },
     "execution_count": 17,
     "metadata": {},
     "output_type": "execute_result"
    }
   ],
   "source": [
    "orders_df.select(\"order_id\", \"order_status\").filter(\"order_id > 10\").cache()"
   ]
  },
  {
   "cell_type": "code",
   "execution_count": 18,
   "id": "3ddcfd73",
   "metadata": {},
   "outputs": [
    {
     "data": {
      "text/plain": [
       "25827375"
      ]
     },
     "execution_count": 18,
     "metadata": {},
     "output_type": "execute_result"
    }
   ],
   "source": [
    "orders_df.select(\"order_id\", \"order_status\").filter(\"order_id > 10\").count()"
   ]
  },
  {
   "cell_type": "code",
   "execution_count": 19,
   "id": "f54d6f9d",
   "metadata": {},
   "outputs": [
    {
     "data": {
      "text/plain": [
       "25793625"
      ]
     },
     "execution_count": 19,
     "metadata": {},
     "output_type": "execute_result"
    }
   ],
   "source": [
    "orders_df.select(\"order_id\", \"order_status\").filter(\"order_id > 100\").count()"
   ]
  },
  {
   "cell_type": "code",
   "execution_count": 20,
   "id": "e17b74ff",
   "metadata": {},
   "outputs": [
    {
     "data": {
      "text/plain": [
       "25827375"
      ]
     },
     "execution_count": 20,
     "metadata": {},
     "output_type": "execute_result"
    }
   ],
   "source": [
    "orders_df.select(\"order_status\").filter(\"order_id > 10\").count()"
   ]
  },
  {
   "cell_type": "code",
   "execution_count": 21,
   "id": "04a031f0",
   "metadata": {},
   "outputs": [],
   "source": [
    "cached_df = orders_df.select(\"order_id\", \"order_status\").filter(\"order_id > 10\").cache()"
   ]
  },
  {
   "cell_type": "code",
   "execution_count": 22,
   "id": "6f70b4c4",
   "metadata": {},
   "outputs": [
    {
     "data": {
      "text/plain": [
       "25827375"
      ]
     },
     "execution_count": 22,
     "metadata": {},
     "output_type": "execute_result"
    }
   ],
   "source": [
    "cached_df.count()"
   ]
  },
  {
   "cell_type": "code",
   "execution_count": 23,
   "id": "e358edae",
   "metadata": {},
   "outputs": [
    {
     "data": {
      "text/plain": [
       "25793625"
      ]
     },
     "execution_count": 23,
     "metadata": {},
     "output_type": "execute_result"
    }
   ],
   "source": [
    "cached_df.select(\"order_id\", \"order_status\").filter(\"order_id > 100\").count()"
   ]
  },
  {
   "cell_type": "code",
   "execution_count": null,
   "id": "52ceb34b",
   "metadata": {},
   "outputs": [],
   "source": []
  }
 ],
 "metadata": {
  "kernelspec": {
   "display_name": "Pyspark 3",
   "language": "python",
   "name": "pyspark3"
  },
  "language_info": {
   "codemirror_mode": {
    "name": "ipython",
    "version": 3
   },
   "file_extension": ".py",
   "mimetype": "text/x-python",
   "name": "python",
   "nbconvert_exporter": "python",
   "pygments_lexer": "ipython3",
   "version": "3.6.12"
  }
 },
 "nbformat": 4,
 "nbformat_minor": 5
}
